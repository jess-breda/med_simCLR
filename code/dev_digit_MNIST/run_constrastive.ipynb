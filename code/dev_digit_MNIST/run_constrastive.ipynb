{
 "cells": [
  {
   "cell_type": "code",
   "execution_count": 6,
   "metadata": {},
   "outputs": [
    {
     "name": "stdout",
     "output_type": "stream",
     "text": [
      "The autoreload extension is already loaded. To reload it, use:\n",
      "  %reload_ext autoreload\n"
     ]
    }
   ],
   "source": [
    "import matplotlib.pyplot as plt\n",
    "import numpy as np\n",
    "import torch \n",
    "\n",
    "from constrastive_train import run_contrastive_training\n",
    "\n",
    "%load_ext autoreload\n",
    "%autoreload 2"
   ]
  },
  {
   "attachments": {},
   "cell_type": "markdown",
   "metadata": {},
   "source": [
    "These are the params I have been working with that seems to be good / make loss go down. If batch size goes up, learning rate may also need to go up. If running locally, a smaller batch size is better. If running on a GPU you can increase batch size for speed, but it doesn't always train as well. "
   ]
  },
  {
   "cell_type": "code",
   "execution_count": 27,
   "metadata": {},
   "outputs": [],
   "source": [
    "params = {\n",
    "    'batch_size' : 32, \n",
    "    'shuffle_batch' : True,\n",
    "    'learning_rate' : 0.01,\n",
    "    'momentum' : 0.9,\n",
    "    'margin' : 1.0,\n",
    "    'num_epochs' : 10, \n",
    "    'verbose' : True,\n",
    "    'fname' : 'img10k_bs32_ep10' # name of model\n",
    "}"
   ]
  },
  {
   "cell_type": "code",
   "execution_count": 3,
   "metadata": {},
   "outputs": [
    {
     "name": "stdout",
     "output_type": "stream",
     "text": [
      "loading triplets\n",
      "10000 triplets loaded\n",
      "model initialized in constrastive mode\n",
      "[1,   100] loss: 0.347\n",
      "[1,   200] loss: 0.167\n",
      "[1,   300] loss: 0.107\n",
      "epoch 1/10 complete, loss: 63.161251982674\n",
      "[2,   100] loss: 0.070\n",
      "[2,   200] loss: 0.067\n",
      "[2,   300] loss: 0.057\n",
      "epoch 2/10 complete, loss: 20.26139967702329\n",
      "[3,   100] loss: 0.046\n",
      "[3,   200] loss: 0.043\n",
      "[3,   300] loss: 0.050\n",
      "epoch 3/10 complete, loss: 14.637246657162905\n",
      "[4,   100] loss: 0.039\n",
      "[4,   200] loss: 0.032\n",
      "[4,   300] loss: 0.038\n",
      "epoch 4/10 complete, loss: 11.466525131836534\n",
      "[5,   100] loss: 0.031\n",
      "[5,   200] loss: 0.032\n",
      "[5,   300] loss: 0.032\n",
      "epoch 5/10 complete, loss: 9.930706769227982\n",
      "[6,   100] loss: 0.024\n",
      "[6,   200] loss: 0.029\n",
      "[6,   300] loss: 0.033\n",
      "epoch 6/10 complete, loss: 8.9597103651613\n",
      "[7,   100] loss: 0.026\n",
      "[7,   200] loss: 0.030\n",
      "[7,   300] loss: 0.023\n",
      "epoch 7/10 complete, loss: 8.062396947294474\n",
      "[8,   100] loss: 0.026\n",
      "[8,   200] loss: 0.022\n",
      "[8,   300] loss: 0.019\n",
      "epoch 8/10 complete, loss: 6.836440809071064\n",
      "[9,   100] loss: 0.020\n",
      "[9,   200] loss: 0.018\n",
      "[9,   300] loss: 0.022\n",
      "epoch 9/10 complete, loss: 6.164807820692658\n",
      "[10,   100] loss: 0.011\n",
      "[10,   200] loss: 0.015\n",
      "[10,   300] loss: 0.020\n",
      "epoch 10/10 complete, loss: 4.742298694327474\n",
      "Finished Training with final loss 4.742298694327474\n"
     ]
    }
   ],
   "source": [
    "trained_model, loss = run_contrastive_training(max_triplets=10000,params=params)"
   ]
  },
  {
   "cell_type": "code",
   "execution_count": 8,
   "metadata": {},
   "outputs": [
    {
     "data": {
      "image/png": "[encoded data removed]",
      "text/plain": [
       "<Figure size 640x480 with 1 Axes>"
      ]
     },
     "metadata": {},
     "output_type": "display_data"
    }
   ],
   "source": [
    "plt.plot(loss)\n",
    "_ = plt.title(f\"Min model loss {np.round(loss.min(),2)}\")"
   ]
  }
 ],
 "metadata": {
  "kernelspec": {
   "display_name": "simclr",
   "language": "python",
   "name": "python3"
  },
  "language_info": {
   "codemirror_mode": {
    "name": "ipython",
    "version": 3
   },
   "file_extension": ".py",
   "mimetype": "text/x-python",
   "name": "python",
   "nbconvert_exporter": "python",
   "pygments_lexer": "ipython3",
   "version": "3.7.16"
  },
  "orig_nbformat": 4
 },
 "nbformat": 4,
 "nbformat_minor": 2
}
