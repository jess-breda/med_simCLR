{
 "cells": [
  {
   "cell_type": "code",
   "execution_count": 1,
   "metadata": {},
   "outputs": [
    {
     "name": "stderr",
     "output_type": "stream",
     "text": [
      "c:\\Users\\jbred\\anaconda3\\envs\\simclr\\lib\\site-packages\\tqdm\\auto.py:21: TqdmWarning: IProgress not found. Please update jupyter and ipywidgets. See https://ipywidgets.readthedocs.io/en/stable/user_install.html\n",
      "  from .autonotebook import tqdm as notebook_tqdm\n"
     ]
    }
   ],
   "source": [
    "import numpy as np\n",
    "import torch as tr\n",
    "import torchvision\n",
    "import torchvision.datasets as datasets\n",
    "import torchvision.transforms as transforms\n",
    "import torch\n",
    "\n",
    "import torch.nn as nn\n",
    "import torch.nn.functional as F\n",
    "\n",
    "\n",
    "\n",
    "# import torch.optim as optim\n",
    "import torchvision.transforms as transforms\n",
    "# from torchvision.datasets import CIFAR10\n",
    "# from torch.utils.data import DataLoader\n",
    "# from tqdm.notebook import tqdm as tqdm\n",
    "\n",
    "import matplotlib.pyplot as plt\n",
    "import itertools\n"
   ]
  },
  {
   "attachments": {},
   "cell_type": "markdown",
   "metadata": {},
   "source": [
    "https://theaisummer.com/simclr/#indexing-the-similarity-matrix-for-the-simclr-loss-function"
   ]
  },
  {
   "attachments": {},
   "cell_type": "markdown",
   "metadata": {},
   "source": [
    "## Data loading- medical MNIST"
   ]
  },
  {
   "cell_type": "code",
   "execution_count": 5,
   "metadata": {},
   "outputs": [],
   "source": [
    "# Define a function to convert grayscale images to RGB\n",
    "def grayscale_to_rgb(img):\n",
    "    return torch.cat((img, img, img), dim=0)\n",
    "\n",
    "# Set up the data transformations\n",
    "transform = transforms.Compose([\n",
    "    transforms.Grayscale(num_output_channels=3), # Convert to RGB\n",
    "    transforms.ToTensor(),\n",
    "    transforms.Normalize((0.5,), (0.5,))\n",
    "])\n",
    "\n",
    "# Load the MNIST training dataset\n",
    "train_set = datasets.MNIST(\n",
    "    root='./data',\n",
    "    train=True,\n",
    "    download=False,\n",
    "    transform=transform\n",
    ")\n",
    "batch_size = 32\n",
    "# Create a PyTorch DataLoader for the training set\n",
    "train_loader = torch.utils.data.DataLoader(\n",
    "    train_set,\n",
    "    batch_size=batch_size,\n",
    "    shuffle=True\n",
    ")\n",
    "\n",
    "# Load the MNIST test dataset\n",
    "test_set = datasets.MNIST(\n",
    "    root='./data',\n",
    "    train=False,\n",
    "    download=False,\n",
    "    transform=transform\n",
    ")\n",
    "\n",
    "# Create a PyTorch DataLoader for the test set\n",
    "test_loader = torch.utils.data.DataLoader(\n",
    "    test_set,\n",
    "    batch_size=batch_size,\n",
    "    shuffle=False\n",
    ")"
   ]
  },
  {
   "cell_type": "code",
   "execution_count": 6,
   "metadata": {},
   "outputs": [
    {
     "data": {
      "text/plain": [
       "Text(0.5, 1.0, 'Label: 9')"
      ]
     },
     "execution_count": 6,
     "metadata": {},
     "output_type": "execute_result"
    },
    {
     "data": {
      "image/png": "[encoded data removed]",
      "text/plain": [
       "<Figure size 640x480 with 1 Axes>"
      ]
     },
     "metadata": {},
     "output_type": "display_data"
    }
   ],
   "source": [
    "# Sanity check to make sure we can access data / labels\n",
    "idx = 4\n",
    "plt.imshow(train_set.data[idx])\n",
    "plt.title(f\"Label: {train_set.targets[idx]}\")"
   ]
  },
  {
   "cell_type": "code",
   "execution_count": 7,
   "metadata": {},
   "outputs": [
    {
     "name": "stdout",
     "output_type": "stream",
     "text": [
      "Batch 0, Inputs shape: torch.Size([32, 3, 28, 28]), Targets shape: torch.Size([32])\n",
      "Batch 1, Inputs shape: torch.Size([32, 3, 28, 28]), Targets shape: torch.Size([32])\n",
      "Batch 2, Inputs shape: torch.Size([32, 3, 28, 28]), Targets shape: torch.Size([32])\n",
      "Batch 3, Inputs shape: torch.Size([32, 3, 28, 28]), Targets shape: torch.Size([32])\n",
      "Batch 4, Inputs shape: torch.Size([32, 3, 28, 28]), Targets shape: torch.Size([32])\n",
      "Batch 5, Inputs shape: torch.Size([32, 3, 28, 28]), Targets shape: torch.Size([32])\n",
      "Batch 6, Inputs shape: torch.Size([32, 3, 28, 28]), Targets shape: torch.Size([32])\n",
      "Batch 7, Inputs shape: torch.Size([32, 3, 28, 28]), Targets shape: torch.Size([32])\n",
      "Batch 8, Inputs shape: torch.Size([32, 3, 28, 28]), Targets shape: torch.Size([32])\n",
      "Batch 9, Inputs shape: torch.Size([32, 3, 28, 28]), Targets shape: torch.Size([32])\n",
      "\n",
      "batch size: 32, image dims (H,W): torch.Size([28, 28])\n"
     ]
    }
   ],
   "source": [
    "# Get the first 10 samples from the DataLoader for debugging\n",
    "sub_train_loader = list(itertools.islice(train_loader, 10))\n",
    "\n",
    "\n",
    "for i, (inputs, targets) in enumerate(sub_train_loader):\n",
    "\n",
    "    print(f'Batch {i}, Inputs shape: {inputs.shape}, Targets shape: {targets.shape}')\n",
    "\n",
    "print(f\"\\nbatch size: {train_loader.batch_size}, image dims (H,W): {inputs.size()[2:]}\")\n",
    "\n"
   ]
  },
  {
   "attachments": {},
   "cell_type": "markdown",
   "metadata": {},
   "source": [
    "## Model  "
   ]
  },
  {
   "cell_type": "code",
   "execution_count": 24,
   "metadata": {},
   "outputs": [],
   "source": [
    "\n",
    "# Define the SimCLR network architecture\n",
    "class SimCLR(nn.Module):\n",
    "    def __init__(self,verbose=False):\n",
    "        super(SimCLR, self).__init__()\n",
    "        # this is f(*) in the paper\n",
    "        self.encoder = nn.Sequential(\n",
    "            nn.Conv2d(3, 28, kernel_size=3, stride=1, padding=1),\n",
    "            nn.ReLU(),\n",
    "            nn.MaxPool2d(kernel_size=2, stride=2),\n",
    "            nn.Conv2d(28, 64, kernel_size=3, stride=1, padding=1),\n",
    "            nn.ReLU(),\n",
    "            nn.MaxPool2d(kernel_size=2, stride=2),\n",
    "            nn.Conv2d(64, 128, kernel_size=3, stride=1, padding=1),\n",
    "            nn.ReLU(),\n",
    "            nn.MaxPool2d(kernel_size=2, stride=2),\n",
    "            nn.Conv2d(128, 256, kernel_size=3, stride=1, padding=1),\n",
    "            nn.ReLU(),\n",
    "            nn.MaxPool2d(kernel_size=2, stride=2),\n",
    "            nn.Conv2d(256, 512, kernel_size=3, stride=1, padding=1),\n",
    "            nn.ReLU(),\n",
    "            # nn.MaxPool2d(kernel_size=2, stride=2)\n",
    "        )\n",
    "        # this is g(*) in the paper\n",
    "        self.projector = nn.Sequential(\n",
    "            nn.Linear(512, 256),\n",
    "            nn.ReLU(),\n",
    "            nn.Linear(256, 128),\n",
    "            nn.ReLU(),\n",
    "            nn.Linear(128, 64)\n",
    "        )\n",
    "        self.verbose = verbose\n",
    "\n",
    "    def forward(self, x):\n",
    "        h = self.encoder(x)\n",
    "        h = h.view(h.size(0), -1)\n",
    "        z = self.projector(h)\n",
    "        if self.verbose:\n",
    "            print('batch size is ',x.shape)\n",
    "            print('encoded size is ',h.shape)\n",
    "            print('final size is ',z.shape)\n",
    "        return h,z\n",
    "\n",
    "model = SimCLR() # how to initalize a model\n",
    "# h, z = model(inputs) # how to forward pass a batch"
   ]
  },
  {
   "attachments": {},
   "cell_type": "markdown",
   "metadata": {},
   "source": [
    "## Transforms"
   ]
  },
  {
   "cell_type": "code",
   "execution_count": 9,
   "metadata": {},
   "outputs": [],
   "source": [
    "def transform_init(inputs):\n",
    "    \"\"\"\n",
    "    Initial transformation function that returns\n",
    "    two images- one is the identity the second is a random\n",
    "    crop & resize of the original image\n",
    "\n",
    "    eventually, this will be made into a flexible function \n",
    "    with multiple transform options\n",
    "\n",
    "    params\n",
    "    ------\n",
    "    x : tensor (N, C, H, W)\n",
    "        batch of train images to transform\n",
    "\n",
    "    returns\n",
    "    -------\n",
    "    x_i : tensor (N, C, H, W)\n",
    "        identity transform of inputs\n",
    "    x_j : tensor (N, C, H, W)\n",
    "        ransom resize and crop of inputs\n",
    "    \"\"\"\n",
    "\n",
    "    x_i = inputs\n",
    "    x_j =  torchvision.transforms.functional.resized_crop(\n",
    "        inputs,\n",
    "        top=8,\n",
    "        left=8,\n",
    "        height=12,\n",
    "        width=12,\n",
    "        size=(28,28)\n",
    "    )\n",
    "\n",
    "    return x_i, x_j"
   ]
  },
  {
   "cell_type": "code",
   "execution_count": 10,
   "metadata": {},
   "outputs": [],
   "source": [
    "def visualize_batch_transform(x_i,x_j):\n",
    "  \"\"\"\n",
    "  Plot for visualing a transform\n",
    "  pair of an image x\n",
    "  \"\"\"\n",
    "\n",
    "  N,C,H,W = x_i.shape\n",
    "  Nplt = np.min([5,N])\n",
    "  \n",
    "  fig,axarr = plt.subplots(Nplt,2,figsize=(8,3*Nplt))\n",
    "\n",
    "  for ix in range(Nplt):\n",
    "\n",
    "    ax1 = axarr[ix,0]\n",
    "    ax2 = axarr[ix,1]\n",
    "\n",
    "    ax1.imshow(x_i[ix,0])\n",
    "    ax2.imshow(x_j[ix,0])\n",
    "    if ix == 0:\n",
    "      ax1.set_title(\"x_i image\")\n",
    "      ax2.set_title(\"x_j image\")\n",
    "\n",
    "  return None"
   ]
  },
  {
   "cell_type": "code",
   "execution_count": 11,
   "metadata": {},
   "outputs": [],
   "source": [
    "x_i, x_j = transform_init(inputs)\n"
   ]
  },
  {
   "cell_type": "code",
   "execution_count": 12,
   "metadata": {},
   "outputs": [
    {
     "data": {
      "image/png": "[encoded data removed]",
      "text/plain": [
       "<Figure size 800x1500 with 10 Axes>"
      ]
     },
     "metadata": {},
     "output_type": "display_data"
    }
   ],
   "source": [
    "visualize_batch_transform(x_i,x_j)"
   ]
  },
  {
   "attachments": {},
   "cell_type": "markdown",
   "metadata": {},
   "source": [
    "## Loss"
   ]
  },
  {
   "cell_type": "code",
   "execution_count": 13,
   "metadata": {},
   "outputs": [],
   "source": [
    "def device_as(t1, t2):\n",
    "   \"\"\"\n",
    "   Moves t1 to the device of t2\n",
    "   \"\"\"\n",
    "   return t1.to(t2.device)\n",
    "class ContrastiveLoss(nn.Module):\n",
    "   \"\"\"\n",
    "   Vanilla Contrastive loss, also called InfoNceLoss as in SimCLR paper\n",
    "   \"\"\"\n",
    "   def __init__(self, batch_size, temperature=0.5):\n",
    "       super().__init__()\n",
    "       self.batch_size = batch_size\n",
    "       self.temperature = temperature\n",
    "       self.mask = (~torch.eye(batch_size * 2, batch_size * 2, dtype=bool)).float()\n",
    "\n",
    "   def calc_similarity_batch(self, a, b):\n",
    "       representations = torch.cat([a, b], dim=0)\n",
    "       return F.cosine_similarity(representations.unsqueeze(1), representations.unsqueeze(0), dim=2)\n",
    "\n",
    "   def forward(self, proj_1, proj_2):\n",
    "       \"\"\"\n",
    "       proj_1 and proj_2 are batched embeddings [batch, embedding_dim]\n",
    "       where corresponding indices are pairs\n",
    "       z_i, z_j in the SimCLR paper\n",
    "       \"\"\"\n",
    "       batch_size = proj_1.shape[0]\n",
    "       z_i = F.normalize(proj_1, p=2, dim=1)\n",
    "       z_j = F.normalize(proj_2, p=2, dim=1)\n",
    "\n",
    "       similarity_matrix = self.calc_similarity_batch(z_i, z_j)\n",
    "\n",
    "       sim_ij = torch.diag(similarity_matrix, batch_size)\n",
    "       sim_ji = torch.diag(similarity_matrix, -batch_size)\n",
    "\n",
    "       positives = torch.cat([sim_ij, sim_ji], dim=0)\n",
    "\n",
    "       nominator = torch.exp(positives / self.temperature)\n",
    "\n",
    "       denominator = device_as(self.mask, similarity_matrix) * torch.exp(similarity_matrix / self.temperature)\n",
    "\n",
    "       all_losses = -torch.log(nominator / torch.sum(denominator, dim=1))\n",
    "       loss = torch.sum(all_losses) / (2 * self.batch_size)\n",
    "       return loss"
   ]
  },
  {
   "cell_type": "markdown",
   "metadata": {},
   "source": [
    "## Eval"
   ]
  },
  {
   "cell_type": "code",
   "execution_count": 14,
   "metadata": {},
   "outputs": [],
   "source": [
    "def linear_regression(x, y):\n",
    "    \"\"\"\n",
    "    Function to assess if the embedding space with a contrastive\n",
    "    loss improves predictions compared to image transformed with\n",
    "    identitiy (e.g no transformation)\n",
    "\n",
    "    params\n",
    "    ------\n",
    "    x : tensor size: (n, :)\n",
    "        input (image, embedding, etc)\n",
    "    y : tensor size: (n,)\n",
    "        class labels\n",
    "    \n",
    "    returns\n",
    "    \n",
    "    dist : float\n",
    "        euclidian distance between predicted and actual labels \n",
    "        for a batch. \n",
    "    \"\"\"\n",
    "\n",
    "    # flatten x to be (n_batches x n_features)\n",
    "    n_batches = x.size()[0]\n",
    "    x_flat = x.reshape(n_batches, -1)\n",
    "\n",
    "    # pad y to be (n_batches x 1) & float\n",
    "    y_pad = y.float().unsqueeze(1) \n",
    "\n",
    "    W = torch.linalg.lstsq(x_flat, y_pad).solution\n",
    "    dist = torch.dist(x_flat @ W, y_pad)\n",
    "\n",
    "    return dist\n"
   ]
  },
  {
   "attachments": {},
   "cell_type": "markdown",
   "metadata": {},
   "source": [
    "## Train"
   ]
  },
  {
   "cell_type": "code",
   "execution_count": 15,
   "metadata": {},
   "outputs": [],
   "source": [
    "model = SimCLR()\n",
    "optimizer = torch.optim.Adam(model.parameters(), lr=3e-4)\n",
    "criterion = ContrastiveLoss(train_loader.batch_size)"
   ]
  },
  {
   "cell_type": "code",
   "execution_count": 20,
   "metadata": {},
   "outputs": [],
   "source": [
    "num_epochs = 20\n",
    "loss = -99 * np.ones((num_epochs))\n",
    "base_metric = -99 * np.ones((num_epochs))\n",
    "embedding_metric = np.zeros((num_epochs))\n",
    "\n",
    "for ep in range(num_epochs):\n",
    "    loss_epoch = 0\n",
    "    for i, (inputs, targets) in enumerate(train_loader):\n",
    "        optimizer.zero_grad()\n",
    "        \n",
    "        x_i, x_j = transform_init(inputs)\n",
    "\n",
    "        h_i, z_i = model(x_i)\n",
    "        h_j, z_j = model(x_j)\n",
    "\n",
    "        batch_loss = criterion(z_i, z_j)\n",
    "        batch_loss.backward()\n",
    "        optimizer.step()\n",
    "        loss_epoch += batch_loss.item()\n",
    "        embedding_metric[ep] += linear_regression(h_i.detach(), targets)\n",
    "    \n",
    "\n",
    "    loss[ep] = loss_epoch\n",
    "    # base_metric[ep] = linear_regression(x_i, targets)\n",
    "    # embedding_metic[ep] = linear_regression(h_i.detach(), targets)"
   ]
  },
  {
   "attachments": {},
   "cell_type": "markdown",
   "metadata": {},
   "source": [
    "N epochs = 10, lr = on, batch_size = sub : 34 s\n",
    "N epochs = 10, lr = off, batch_size = sub : 35 s\n",
    "N epochs = 20, lr = off, batch_size = full: \n"
   ]
  },
  {
   "attachments": {},
   "cell_type": "markdown",
   "metadata": {},
   "source": [
    "## Eval "
   ]
  },
  {
   "cell_type": "code",
   "execution_count": null,
   "metadata": {},
   "outputs": [],
   "source": [
    "base_metric[ep] = linear_regression(x_i, targets)"
   ]
  },
  {
   "cell_type": "code",
   "execution_count": 21,
   "metadata": {},
   "outputs": [
    {
     "ename": "ModuleNotFoundError",
     "evalue": "No module named 'torchmetrics'",
     "output_type": "error",
     "traceback": [
      "\u001b[1;31m---------------------------------------------------------------------------\u001b[0m",
      "\u001b[1;31mModuleNotFoundError\u001b[0m                       Traceback (most recent call last)",
      "\u001b[1;32m~\\AppData\\Local\\Temp\\ipykernel_10476\\3085936786.py\u001b[0m in \u001b[0;36m<module>\u001b[1;34m\u001b[0m\n\u001b[1;32m----> 1\u001b[1;33m \u001b[1;32mfrom\u001b[0m \u001b[0mtorchmetrics\u001b[0m \u001b[1;32mimport\u001b[0m \u001b[0mR2Score\u001b[0m\u001b[1;33m\u001b[0m\u001b[1;33m\u001b[0m\u001b[0m\n\u001b[0m\u001b[0;32m      2\u001b[0m \u001b[1;33m\u001b[0m\u001b[0m\n\u001b[0;32m      3\u001b[0m \u001b[0mx\u001b[0m \u001b[1;33m=\u001b[0m \u001b[0mh_i\u001b[0m\u001b[1;33m.\u001b[0m\u001b[0mcopy\u001b[0m\u001b[1;33m(\u001b[0m\u001b[1;33m)\u001b[0m\u001b[1;33m\u001b[0m\u001b[1;33m\u001b[0m\u001b[0m\n\u001b[0;32m      4\u001b[0m \u001b[1;31m# flatten x to be (n_batches x n_features)\u001b[0m\u001b[1;33m\u001b[0m\u001b[1;33m\u001b[0m\u001b[1;33m\u001b[0m\u001b[0m\n\u001b[0;32m      5\u001b[0m \u001b[0mn_batches\u001b[0m \u001b[1;33m=\u001b[0m \u001b[0mx\u001b[0m\u001b[1;33m.\u001b[0m\u001b[0msize\u001b[0m\u001b[1;33m(\u001b[0m\u001b[1;33m)\u001b[0m\u001b[1;33m[\u001b[0m\u001b[1;36m0\u001b[0m\u001b[1;33m]\u001b[0m\u001b[1;33m\u001b[0m\u001b[1;33m\u001b[0m\u001b[0m\n",
      "\u001b[1;31mModuleNotFoundError\u001b[0m: No module named 'torchmetrics'"
     ]
    }
   ],
   "source": [
    "from torchmetrics import R2Score\n",
    "\n",
    "x = h_i.copy()\n",
    "# flatten x to be (n_batches x n_features)\n",
    "n_batches = x.size()[0]\n",
    "x_flat = x.reshape(n_batches, -1)\n",
    "\n",
    "# pad y to be (n_batches x 1) & float\n",
    "y_pad = y.float().unsqueeze(1) \n",
    "\n",
    "W = torch.linalg.lstsq(x_flat, y_pad).solution\n",
    "r2score = R2Score()\n",
    "r2score((x_flat @ W, y_pad))\n"
   ]
  },
  {
   "cell_type": "code",
   "execution_count": 22,
   "metadata": {},
   "outputs": [
    {
     "data": {
      "text/plain": [
       "<matplotlib.legend.Legend at 0x23deaafb508>"
      ]
     },
     "execution_count": 22,
     "metadata": {},
     "output_type": "execute_result"
    },
    {
     "data": {
      "image/png": "[encoded data removed]",
      "text/plain": [
       "<Figure size 700x500 with 2 Axes>"
      ]
     },
     "metadata": {},
     "output_type": "display_data"
    }
   ],
   "source": [
    "fig,ax = plt.subplots(2, 1, figsize=(7,5))\n",
    "\n",
    "ax[0].plot(loss, color = \"red\", label = \"loss\")\n",
    "ax[1].plot(base_metric, color = \"blue\", label=\"x_i distance\")\n",
    "ax[1].plot(embedding_metric, color = \"green\", label=\"h_i distance\")\n",
    "\n",
    "ax[0].legend()\n",
    "ax[1].legend()"
   ]
  },
  {
   "cell_type": "code",
   "execution_count": 15,
   "metadata": {},
   "outputs": [
    {
     "data": {
      "text/plain": [
       "(16.712682723999023, 13.696744919896009)"
      ]
     },
     "execution_count": 15,
     "metadata": {},
     "output_type": "execute_result"
    }
   ],
   "source": [
    "base_metric.mean(), embedding_metic.mean()"
   ]
  },
  {
   "cell_type": "code",
   "execution_count": 16,
   "metadata": {},
   "outputs": [
    {
     "data": {
      "text/plain": [
       "False"
      ]
     },
     "execution_count": 16,
     "metadata": {},
     "output_type": "execute_result"
    }
   ],
   "source": [
    "torch.cuda.is_available()"
   ]
  },
  {
   "cell_type": "code",
   "execution_count": null,
   "metadata": {},
   "outputs": [],
   "source": []
  }
 ],
 "metadata": {
  "kernelspec": {
   "display_name": "simclr",
   "language": "python",
   "name": "python3"
  },
  "language_info": {
   "codemirror_mode": {
    "name": "ipython",
    "version": 3
   },
   "file_extension": ".py",
   "mimetype": "text/x-python",
   "name": "python",
   "nbconvert_exporter": "python",
   "pygments_lexer": "ipython3",
   "version": "3.7.16"
  },
  "orig_nbformat": 4
 },
 "nbformat": 4,
 "nbformat_minor": 2
}
